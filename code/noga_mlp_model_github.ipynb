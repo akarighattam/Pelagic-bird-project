{
 "cells": [
  {
   "cell_type": "code",
   "execution_count": null,
   "id": "4bc82afd",
   "metadata": {},
   "outputs": [],
   "source": [
    "#import libraries\n",
    "from datetime import datetime, timedelta\n",
    "from shapely.geometry import Point, Polygon\n",
    "import pandas as pd\n",
    "import csv\n",
    "import numpy as np\n",
    "import seaborn as sns\n",
    "from sklearn import preprocessing, svm\n",
    "from sklearn.preprocessing import StandardScaler, MinMaxScaler\n",
    "from sklearn.model_selection import train_test_split\n",
    "from sklearn.metrics import mean_squared_error, r2_score"
   ]
  },
  {
   "cell_type": "code",
   "execution_count": null,
   "id": "fc34775a",
   "metadata": {},
   "outputs": [],
   "source": [
    "# import dataset\n",
    "northern_gannet_df = pd.read_csv(\"https://github.com/akarighattam/Pelagic-bird-project/blob/main/datasets/noga_obsv_200601-202312_masscoast_50.csv\", sep='\\t', index_col=[\"Unnamed: 0\"])\n",
    "weather_df = pd.read_csv(\"https://github.com/akarighattam/Pelagic-bird-project/blob/main/datasets/noga_weather_200601-202312_masscoast_50_000-012_3.csv\", sep='\\t', index_col=[\"Unnamed: 0\"])"
   ]
  },
  {
   "cell_type": "code",
   "execution_count": null,
   "id": "96484d93",
   "metadata": {},
   "outputs": [],
   "source": [
    "weather_df.shape"
   ]
  },
  {
   "cell_type": "code",
   "execution_count": null,
   "id": "be79553f",
   "metadata": {
    "scrolled": true
   },
   "outputs": [],
   "source": [
    "northern_gannet_df.head(10)"
   ]
  },
  {
   "cell_type": "markdown",
   "id": "c4b17991",
   "metadata": {},
   "source": [
    "### Data Preprocessing"
   ]
  },
  {
   "cell_type": "code",
   "execution_count": null,
   "id": "42269d8e",
   "metadata": {},
   "outputs": [],
   "source": [
    "# take the log of each count to help the model understand the correlation better (the data is exponential)\n",
    "observation_column=northern_gannet_df['OBSERVATION COUNT'].tolist()\n",
    "# since log is not defined for x=0, we can convert the counts to log(x+1)\n",
    "northern_gannet_df['OBSERVATION COUNT']=pd.Series([np.log(x+1) for x in observation_column])"
   ]
  },
  {
   "cell_type": "code",
   "execution_count": null,
   "id": "8b9b599d",
   "metadata": {},
   "outputs": [],
   "source": [
    "noga_log=northern_gannet_df"
   ]
  },
  {
   "cell_type": "code",
   "execution_count": null,
   "id": "ea763063",
   "metadata": {},
   "outputs": [],
   "source": [
    "# filtering pelagic bird counts data to a coastal region of Rockport \n",
    "noga_log=noga_log[noga_log['LONGITUDE']>=-70.64112479594434]\n",
    "noga_log=noga_log[noga_log['LATITUDE']>=42.68138642588193]\n",
    "noga_log=noga_log[noga_log['LONGITUDE']<=-70.61618444441049]\n",
    "noga_log=noga_log[noga_log['LATITUDE']<=42.69585507137888]"
   ]
  },
  {
   "cell_type": "code",
   "execution_count": null,
   "id": "40f7fe89",
   "metadata": {},
   "outputs": [],
   "source": [
    "# reset the index of the dataframe\n",
    "indices=noga_log.index\n",
    "noga_log=noga_log.reset_index(drop=True)\n",
    "# only keep indices that are also in noga_largest_count\n",
    "weather=weather_df.loc[indices].reset_index(drop=True)\n",
    "# create new series with just the observation count\n",
    "northern_gannet=noga_log['OBSERVATION COUNT']\n",
    "weather_complete=pd.concat([weather, noga_log[['LATITUDE', 'LONGITUDE', 'days_cos', 'days_sin']]], axis=1)"
   ]
  },
  {
   "cell_type": "code",
   "execution_count": null,
   "id": "79b9ec8e",
   "metadata": {},
   "outputs": [],
   "source": [
    "northern_gannet.shape"
   ]
  },
  {
   "cell_type": "code",
   "execution_count": null,
   "id": "d3a48d4e",
   "metadata": {
    "scrolled": false
   },
   "outputs": [],
   "source": [
    "weather_complete.head(10)"
   ]
  },
  {
   "cell_type": "code",
   "execution_count": null,
   "id": "037abaa8",
   "metadata": {},
   "outputs": [],
   "source": [
    "# plot NOGA counts vs weather parameters\n",
    "counts_df=pd.concat([northern_gannet,weather_complete[['windy009']]], axis=1)\n",
    "counts_df=counts_df.rename(columns={'OBSERVATION COUNT':'observation count','windy009':'W <---      wind-y component at 9AM      ---> E'})\n",
    "counts=sns.scatterplot(data=counts_df, x='W <---      wind-y component at 9AM      ---> E', y='observation count')"
   ]
  },
  {
   "cell_type": "markdown",
   "id": "b02e4620",
   "metadata": {},
   "source": [
    "### Train and test arrays"
   ]
  },
  {
   "cell_type": "code",
   "execution_count": null,
   "id": "9330be20",
   "metadata": {},
   "outputs": [],
   "source": [
    "# complete weather dataset\n",
    "weather_windxy_cos_sin_1=weather_complete[weather_complete.columns[-14:-4]]\n",
    "weather_windxy_cos_sin_2=weather_complete[weather_complete.columns[-2:]]\n",
    "weather_windxy_cos_sin=pd.concat([weather_windxy_cos_sin_1, weather_windxy_cos_sin_2], axis=1)\n",
    "weather_windxy_cos_sin.head(10)"
   ]
  },
  {
   "cell_type": "code",
   "execution_count": null,
   "id": "0e779405",
   "metadata": {},
   "outputs": [],
   "source": [
    "# weather dataset for 6AM and 9AM\n",
    "weather_0609_cos_sin_1=weather_windxy_cos_sin[weather_windxy_cos_sin.columns[2:4]]\n",
    "weather_0609_cos_sin_2=weather_windxy_cos_sin[weather_windxy_cos_sin.columns[7:9]]\n",
    "weather_0609_cos_sin_3=weather_windxy_cos_sin[weather_windxy_cos_sin.columns[-2:]]\n",
    "weather_0609_cos_sin=pd.concat([weather_0609_cos_sin_1,weather_0609_cos_sin_2, weather_0609_cos_sin_3], axis=1)\n",
    "weather_0609_cos_sin.head(10)"
   ]
  },
  {
   "cell_type": "code",
   "execution_count": null,
   "id": "4a3f7796",
   "metadata": {},
   "outputs": [],
   "source": [
    "X=weather_0609_cos_sin.to_numpy()\n",
    "y=northern_gannet.to_numpy()"
   ]
  },
  {
   "cell_type": "code",
   "execution_count": null,
   "id": "b88bb554",
   "metadata": {
    "scrolled": false
   },
   "outputs": [],
   "source": [
    "print(X)"
   ]
  },
  {
   "cell_type": "code",
   "execution_count": null,
   "id": "d3ee4739",
   "metadata": {},
   "outputs": [],
   "source": [
    "# normalize X values using StandardScaler() formula: z=(x-u)/s\n",
    "# wind_X\n",
    "windx_avg=np.mean(X[:, 0:2])\n",
    "windx_std=np.std(X[:, 0:2])\n",
    "X[:, 0:2]-=windx_avg\n",
    "X[:, 0:2]=np.divide(X[:, 0:2], windx_std)\n",
    "# wind_y\n",
    "windy_avg=np.mean(X[:, 2:4])\n",
    "windy_std=np.std(X[:, 2:4])\n",
    "X[:, 2:4]-=windy_avg\n",
    "X[:, 2:4]=np.divide(X[:, 2:4], windy_std)\n",
    "# normalize y values using MinMaxScaler() formula: z=(y-min)/(max-min)\n",
    "counts_min=np.min(y)\n",
    "counts_max=np.max(y)\n",
    "y-=counts_min\n",
    "y=np.divide(y, counts_max-counts_min)\n",
    "print(X)"
   ]
  },
  {
   "cell_type": "code",
   "execution_count": null,
   "id": "23a559a1",
   "metadata": {},
   "outputs": [],
   "source": [
    "print(y)"
   ]
  },
  {
   "cell_type": "code",
   "execution_count": null,
   "id": "a2956080",
   "metadata": {},
   "outputs": [],
   "source": [
    "# split into train and test datasets\n",
    "X_train, X_test, y_train, y_test = train_test_split(X, y, test_size=0.3)"
   ]
  },
  {
   "cell_type": "code",
   "execution_count": null,
   "id": "f9d4efb9",
   "metadata": {},
   "outputs": [],
   "source": [
    "y_train.shape"
   ]
  },
  {
   "cell_type": "markdown",
   "id": "d4f7e85b",
   "metadata": {},
   "source": [
    "### Model"
   ]
  },
  {
   "cell_type": "code",
   "execution_count": null,
   "id": "a26855fc",
   "metadata": {},
   "outputs": [],
   "source": [
    "# import dependencies\n",
    "import keras\n",
    "import tensorflow as tf\n",
    "from keras.models import Sequential\n",
    "from keras import layers\n",
    "from keras.layers import Dense"
   ]
  },
  {
   "cell_type": "code",
   "execution_count": null,
   "id": "287822ba",
   "metadata": {},
   "outputs": [],
   "source": [
    "# custom loss function\n",
    "def weighted_MSE(y_true, y_pred):\n",
    "    # condition is true or false\n",
    "    condition=tf.greater(y_true-y_pred, 0)\n",
    "    # first option if true, second if false\n",
    "    return tf.math.reduce_mean(tf.math.reduce_sum(tf.where(condition, (y_true-y_pred)**2, ((y_true-y_pred)**2)/16)))"
   ]
  },
  {
   "cell_type": "code",
   "execution_count": null,
   "id": "b4058d31",
   "metadata": {
    "scrolled": true
   },
   "outputs": [],
   "source": [
    "# create DNN model\n",
    "dnn_model = keras.Sequential(\n",
    "    [\n",
    "        layers.Dense(6, activation=\"sigmoid\", input_shape=(6,), name=\"layer1\"),\n",
    "        layers.Dense(6, activation=\"relu\", name=\"layer2\"),\n",
    "        layers.Dense(1, activation=\"linear\", name=\"layer3\")\n",
    "    ]\n",
    ")\n",
    "dnn_model.compile(optimizer='Adam', loss=weighted_MSE)\n",
    "# train model and plot loss\n",
    "model_2=dnn_model.fit(X_train, y_train, epochs=100, validation_data=(X_test, y_test))"
   ]
  },
  {
   "cell_type": "code",
   "execution_count": null,
   "id": "a3571e48",
   "metadata": {
    "scrolled": true
   },
   "outputs": [],
   "source": [
    "# Evaluate the results\n",
    "# group preds, actual counts, and observation number into one dataframe\n",
    "y_pred=dnn_model.predict(X_test)\n",
    "y_pred_df=pd.DataFrame(y_pred)\n",
    "y_df=pd.concat([y_pred_df, pd.DataFrame(y_test)], axis=1)\n",
    "y_df.columns=['preds', 'counts']\n",
    "\n",
    "# unscale and take the exponential of the counts and preds\n",
    "counts_column=y_df['counts'].tolist()\n",
    "y_df['counts']=pd.Series([np.multiply(i, counts_max-counts_min) for i in counts_column])\n",
    "counts_column=y_df['counts'].tolist()\n",
    "y_df['counts']=pd.Series([round(np.around(np.exp(i)-1, 0), 0) for i in counts_column])\n",
    "preds_column=y_df['preds'].tolist()\n",
    "y_df['preds']=pd.Series([np.multiply(i, counts_max-counts_min) for i in preds_column])\n",
    "preds_column=y_df['preds'].tolist()\n",
    "y_df['preds']=pd.Series([round(np.around(np.exp(i)-1, 0), 0) for i in preds_column])\n",
    "y_df=y_df.sort_values(by=['counts']).reset_index(drop=True)\n",
    "y_df['wind-y component']=weather_complete[['windy009']]"
   ]
  },
  {
   "cell_type": "code",
   "execution_count": null,
   "id": "36396471",
   "metadata": {},
   "outputs": [],
   "source": [
    "# R-squared score\n",
    "ypred=y_df['preds'].tolist()\n",
    "ytrue=y_df['counts'].tolist()\n",
    "\n",
    "print(r2_score(ytrue,ypred))"
   ]
  },
  {
   "cell_type": "code",
   "execution_count": null,
   "id": "e37348f1",
   "metadata": {},
   "outputs": [],
   "source": [
    "# plot predictions\n",
    "xy=sns.scatterplot(x='wind-y component', y='value', hue='value type', style=\"value type\", data=pd.melt(y_df, ['wind-y component'], var_name='value type', value_name='value'))\n",
    "xy.set_ylim(0, 2000)"
   ]
  },
  {
   "cell_type": "code",
   "execution_count": null,
   "id": "04ea535c",
   "metadata": {},
   "outputs": [],
   "source": [
    "from meteostat import Point, Daily, Hourly, Stations"
   ]
  },
  {
   "cell_type": "code",
   "execution_count": null,
   "id": "0751e053",
   "metadata": {},
   "outputs": [],
   "source": [
    "def get_weather(latitude, longitude, month, day, year):\n",
    "    # find nearest station\n",
    "    stations = Stations()\n",
    "    stations = stations.nearby(latitude, longitude)\n",
    "    station = stations.fetch(2)\n",
    "    station=station.index\n",
    "    defective_stations=['72506', '74492', '74494', 'KNZW0']\n",
    "    # pick a non-defective station\n",
    "    if station[0] in defective_stations:\n",
    "        station = station[1]\n",
    "    else:\n",
    "        station = station[0]\n",
    "    # hourly data for station\n",
    "    weather_for_day=pd.DataFrame(index=[0], columns=['temp', 'prcp', 'wind_x', 'wind_y'])\n",
    "    start = datetime(year, month, day, 0, 00)\n",
    "    end = datetime(year, month, day, 12, 00)\n",
    "    stn = Hourly(station, start, end)\n",
    "    stn = stn.fetch()\n",
    "    # fill missing rows of hourly weather with rows of NaN values\n",
    "    times=[\n",
    "        datetime(start.year, start.month, start.day, 0, 00),\n",
    "        datetime(start.year, start.month, start.day, 1, 00),\n",
    "        datetime(start.year, start.month, start.day, 2, 00),\n",
    "        datetime(start.year, start.month, start.day, 3, 00), \n",
    "        datetime(start.year, start.month, start.day, 4, 00),\n",
    "        datetime(start.year, start.month, start.day, 5, 00),\n",
    "        datetime(start.year, start.month, start.day, 6, 00),\n",
    "        datetime(start.year, start.month, start.day, 7, 00),\n",
    "        datetime(start.year, start.month, start.day, 8, 00),\n",
    "        datetime(start.year, start.month, start.day, 9, 00),\n",
    "        datetime(start.year, start.month, start.day, 10, 00),\n",
    "        datetime(start.year, start.month, start.day, 11, 00),\n",
    "        datetime(start.year, start.month, start.day, 12, 00),\n",
    "    ]\n",
    "    nan_row=pd.Series({\"temp\":np.nan, \"dwpt\":np.nan, \"rhum\":np.nan, \"prcp\":np.nan, \"snow\": np.nan, \"wdir\":np.nan, \"wspd\":np.nan, \"wpgt\":np.nan, \"pres\":np.nan, \"tsun\":np.nan, \"coco\":np.nan})\n",
    "    for time in times:\n",
    "        if time not in stn.index:\n",
    "            stn=pd.concat([stn, nan_row.to_frame(time).T])\n",
    "    stn=stn.sort_index()\n",
    "    # filter to every 3 hrs\n",
    "    counter=-1 \n",
    "    for index, row in stn.iterrows():\n",
    "        counter+=1  \n",
    "        if counter%3!=0:\n",
    "            stn=stn.drop(index)\n",
    "    # replace NaNs\n",
    "    stn['prcp']=stn['prcp'].fillna(0)\n",
    "    stn['temp']=stn['temp'].interpolate(method='linear', limit_direction='both')\n",
    "    stn['wdir']=stn['wdir'].interpolate(method='linear', limit_direction='both')\n",
    "    stn['wspd']=stn['wspd'].interpolate(method='linear', limit_direction='both')\n",
    "    # create a list for each parameter\n",
    "    stn_temp=stn['temp'].tolist()\n",
    "    stn_prcp=stn['prcp'].tolist()\n",
    "    stn_wdir=stn['wdir'].tolist()\n",
    "    stn_wspd=stn['wspd'].tolist()\n",
    "    # convert wind speed and wind direction into x and y components\n",
    "    stn_wind_x=[]\n",
    "    stn_wind_y=[]\n",
    "    for i in range(5):\n",
    "        cosine=np.around(np.cos(np.deg2rad(stn_wdir[i])), decimals=1)\n",
    "        sine=np.around(np.sin(np.deg2rad(stn_wdir[i])), decimals=1)\n",
    "        hourly_wind_x=np.around(float(stn_wspd[i])*cosine, decimals=1)\n",
    "        hourly_wind_y=np.around(float(stn_wspd[i])*sine, decimals=1)\n",
    "        stn_wind_x.append(hourly_wind_x)\n",
    "        stn_wind_y.append(hourly_wind_y)\n",
    "    stn_wind_x=pd.Series(stn_wind_x, dtype=object).fillna(0).tolist()\n",
    "    stn_wind_y=pd.Series(stn_wind_y, dtype=object).fillna(0).tolist()\n",
    "    # create a dataframe\n",
    "    temp_df=pd.DataFrame([stn_temp], columns=['temp000','temp003','temp006','temp009','temp012'])\n",
    "    prcp_df=pd.DataFrame([stn_prcp], columns=['prcp000','prcp003','prcp006','prcp009','prcp012'])\n",
    "    wdir_df=pd.DataFrame([stn_wdir], columns=['wdir000','wdir003','wdir006','wdir009','wdir012'])\n",
    "    wspd_df=pd.DataFrame([stn_wspd], columns=['wspd000','wspd003','wspd006','wspd009','wspd012'])\n",
    "    windx_df=pd.DataFrame([stn_wind_x], columns=['windx000','windx003','windx006','windx009','windx012'])\n",
    "    windy_df=pd.DataFrame([stn_wind_y], columns=['windy000','windy003','windy006','windy009','windy012'])\n",
    "    weather_for_day=pd.concat([windx_df,windy_df], axis=1)\n",
    "    # add day using day_in_the_year function\n",
    "    def days_in_a_year(month, day):\n",
    "        return np.piecewise(1, [month==1, month==2, month==3, month==4, month==5, month==6, month==7, month==8, month==9, month==10, month==11, month==12], [day,31+day,60+day,91+day,121+day,152+day,182+day,213+day,244+day,274+day,305+day,335+day])\n",
    "    weather_for_day['days_cos']=np.cos(np.deg2rad(days_in_a_year(month, day)*(60/61)))\n",
    "    weather_for_day['days_sin']=np.sin(np.deg2rad(days_in_a_year(month, day)*(60/61)))\n",
    "    return weather_for_day"
   ]
  },
  {
   "cell_type": "code",
   "execution_count": null,
   "id": "7445a368",
   "metadata": {},
   "outputs": [],
   "source": [
    "def df_to_numpy_scaled(weather_for_day):\n",
    "    # keep specific columns\n",
    "    weather_0609_cos_sin_1=weather_for_day[weather_for_day.columns[2:4]]\n",
    "    weather_0609_cos_sin_2=weather_for_day[weather_for_day.columns[7:9]]\n",
    "    weather_0609_cos_sin_3=weather_for_day[weather_for_day.columns[-2:]]\n",
    "    weather_0609_cos_sin=pd.concat([weather_0609_cos_sin_1,weather_0609_cos_sin_2, weather_0609_cos_sin_3], axis=1)\n",
    "    # convert dataframe to numpy array\n",
    "    x_test=weather_0609_cos_sin.to_numpy()\n",
    "    # scale weather parameters, latitude, and longitude, so that the standard deviation is 1\n",
    "    # normalize X values using StandardScaler() formula: z=(x-u)/s\n",
    "    # wind_X\n",
    "    x_test[0, 0:2]-=windx_avg\n",
    "    x_test[0, 0:2]=np.divide(x_test[0, 0:2], windx_std)\n",
    "    # wind_y\n",
    "    x_test[0, 2:4]-=windy_avg\n",
    "    x_test[0, 2:4]=np.divide(x_test[0, 2:4], windy_std)\n",
    "    return x_test"
   ]
  },
  {
   "cell_type": "code",
   "execution_count": null,
   "id": "d6156bb8",
   "metadata": {},
   "outputs": [],
   "source": [
    "def predict_northern_gannets(latitude, longitude, month, day, year):\n",
    "    # create x_test\n",
    "    x_test=df_to_numpy_scaled(get_weather(latitude, longitude, month, day, year))\n",
    "    # predict number of nogas\n",
    "    noga_count=dnn_model.predict(x_test, verbose=0)\n",
    "    # the noga count in scaled so we unscale it\n",
    "    noga_count=float(str(noga_count).replace(\"[\", \"\").replace(\"]\", \"\"))\n",
    "    # get original count by using the formula: y=z*(max-min)+min\n",
    "    noga_count=np.multiply(noga_count, counts_max-counts_min)\n",
    "    noga_count+=counts_min\n",
    "    noga_count=round(np.exp(noga_count)-1,0)\n",
    "    if 0<=noga_count<10:\n",
    "        noga_prediction='\\nDate: '+str(month)+'/'+str(day)+'/'+str(year)+'\\nIn the morning, there are expected to be less than 10 Northern Gannets at this location.'\n",
    "    if 10<=noga_count<50:\n",
    "        noga_prediction='\\nDate: '+str(month)+'/'+str(day)+'/'+str(year)+'\\nIn the morning, there are expected to be 10-50 Northern Gannets at this location.'\n",
    "    if 50<=noga_count<100:\n",
    "        noga_prediction='\\nDate: '+str(month)+'/'+str(day)+'/'+str(year)+'\\nIn the morning, there are expected to be 50-100 Northern Gannets at this location.'\n",
    "    if 100<=noga_count<250:\n",
    "        noga_prediction='\\nDate: '+str(month)+'/'+str(day)+'/'+str(year)+'\\nIn the morning, there are expected to be 100-250 Northern Gannets at this location.'\n",
    "    if 250<=noga_count<500:\n",
    "        noga_prediction='\\nDate: '+str(month)+'/'+str(day)+'/'+str(year)+'\\nIn the morning, there are expected to be 250-500 Northern Gannets at this location.'\n",
    "    if 500<=noga_count<=1000:\n",
    "        noga_prediction='\\nDate: '+str(month)+'/'+str(day)+'/'+str(year)+'\\nIn the morning, there are expected to be 500-1000 Northern Gannets at this location.'\n",
    "    if noga_count>1000:\n",
    "        noga_prediction='\\nDate: '+str(month)+'/'+str(day)+'/'+str(year)+'\\nIn the morning, there are expected to be greater than 1000 Northern Gannets at this location.'\n",
    "    return noga_prediction"
   ]
  },
  {
   "cell_type": "code",
   "execution_count": null,
   "id": "a3060351",
   "metadata": {},
   "outputs": [],
   "source": [
    "print(predict_northern_gannets(42.691015, -70.631701, 1, 13, 2024)) # 459, 'ESE, 30-45 mph'\n",
    "print(predict_northern_gannets(42.691015, -70.631701, 1, 17, 2024)) # ~0-10, 'WNW, 10 mph'\n",
    "print(predict_northern_gannets(42.691015, -70.631701, 5, 28, 2024)) # 823, 'S, 10-15 mph'\n",
    "print(predict_northern_gannets(42.691015, -70.631701, 10, 2, 2022)) # 1500, 'E, 20-30 mph'\n",
    "print(predict_northern_gannets(42.691015, -70.631701, 1, 28, 2024)) # 1.0, 'SE, 5-12 mph'\n",
    "print(predict_northern_gannets(42.691015, -70.631701, 1, 10, 2024)) # 180, 'ENE, 5-10 mph'\n",
    "print(predict_northern_gannets(42.691015, -70.631701, 2, 10, 2024)) # 0.0, 'WSW, 0-5 mph'\n",
    "print(predict_northern_gannets(42.691015, -70.631701, 11, 1, 2023)) # 500, 'E, 5-10 mph'\n",
    "print(predict_northern_gannets(42.691015, -70.631701, 9, 16, 2023)) # 475, 'NW, 30-35 mph'"
   ]
  }
 ],
 "metadata": {
  "kernelspec": {
   "display_name": "Python 3 (ipykernel)",
   "language": "python",
   "name": "python3"
  },
  "language_info": {
   "codemirror_mode": {
    "name": "ipython",
    "version": 3
   },
   "file_extension": ".py",
   "mimetype": "text/x-python",
   "name": "python",
   "nbconvert_exporter": "python",
   "pygments_lexer": "ipython3",
   "version": "3.10.9"
  }
 },
 "nbformat": 4,
 "nbformat_minor": 5
}
